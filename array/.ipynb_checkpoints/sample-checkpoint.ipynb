{
 "cells": [
  {
   "cell_type": "code",
   "execution_count": 61,
   "id": "322b311c",
   "metadata": {},
   "outputs": [],
   "source": [
    "list1 = [3,-1,2,5]\n",
    "list2 = [2,1,2,5]"
   ]
  },
  {
   "cell_type": "code",
   "execution_count": 62,
   "id": "43ac023e",
   "metadata": {},
   "outputs": [
    {
     "name": "stdout",
     "output_type": "stream",
     "text": [
      "[3, -1, 2, 5]\n",
      "[2, 1, 2, 5]\n"
     ]
    }
   ],
   "source": [
    "print(list1)\n",
    "print(list2)"
   ]
  },
  {
   "cell_type": "code",
   "execution_count": 63,
   "id": "dcf39d0e",
   "metadata": {},
   "outputs": [],
   "source": [
    "k = 1"
   ]
  },
  {
   "cell_type": "code",
   "execution_count": 64,
   "id": "3cf917bb",
   "metadata": {},
   "outputs": [
    {
     "name": "stdout",
     "output_type": "stream",
     "text": [
      "[3, -1, 2, 5]\n",
      "[2, 1, 2, 5]\n"
     ]
    }
   ],
   "source": [
    "print(list1)\n",
    "print(list2)"
   ]
  },
  {
   "cell_type": "code",
   "execution_count": 65,
   "id": "b749d2a2",
   "metadata": {},
   "outputs": [
    {
     "data": {
      "text/plain": [
       "{3: 1, -1: 1, 2: 1, 5: 1}"
      ]
     },
     "execution_count": 65,
     "metadata": {},
     "output_type": "execute_result"
    }
   ],
   "source": [
    "dict1 = {}\n",
    "count = 0\n",
    "for i in range(len(list1)):\n",
    "    for j in range(i,len(list1)):\n",
    "        if (list1[j]==list1[i]):\n",
    "            count = count + 1\n",
    "    dict1.update({ list1[i]: count})\n",
    "    count = 0\n",
    "dict1"
   ]
  },
  {
   "cell_type": "code",
   "execution_count": null,
   "id": "a326148c",
   "metadata": {},
   "outputs": [],
   "source": [
    "10 4\n",
    "5 5 10 8 -1 16 -3 14 -10,-10"
   ]
  },
  {
   "cell_type": "code",
   "execution_count": 121,
   "id": "cb9eb1f4",
   "metadata": {},
   "outputs": [],
   "source": [
    "list1 = [-3, 3, -8, 8, 3, -3, 7, -4] "
   ]
  },
  {
   "cell_type": "code",
   "execution_count": 119,
   "id": "58c0e78e",
   "metadata": {},
   "outputs": [
    {
     "data": {
      "text/plain": [
       "OrderedDict([(8, 1), (7, 1), (3, 2), (-3, 2), (-4, 1), (-8, 1)])"
      ]
     },
     "execution_count": 119,
     "metadata": {},
     "output_type": "execute_result"
    }
   ],
   "source": [
    "dict1"
   ]
  },
  {
   "cell_type": "code",
   "execution_count": 112,
   "id": "0c28aec1",
   "metadata": {},
   "outputs": [
    {
     "name": "stdout",
     "output_type": "stream",
     "text": [
      "4 1\n"
     ]
    }
   ],
   "source": [
    "8 4\n",
    "[-3, 3, -8, 8, 3, -3, 7, -4]"
   ]
  },
  {
   "cell_type": "code",
   "execution_count": 113,
   "id": "641eb509",
   "metadata": {},
   "outputs": [
    {
     "data": {
      "text/plain": [
       "'4'"
      ]
     },
     "execution_count": 113,
     "metadata": {},
     "output_type": "execute_result"
    }
   ],
   "source": [
    "x"
   ]
  },
  {
   "cell_type": "code",
   "execution_count": 89,
   "id": "113cb7a2",
   "metadata": {},
   "outputs": [],
   "source": [
    "sum1 = 0\n",
    "for i in range(K):\n",
    "    sum1 = sum1 + (list5[i][0] * list5[i][1])"
   ]
  },
  {
   "cell_type": "code",
   "execution_count": 90,
   "id": "2898843b",
   "metadata": {},
   "outputs": [
    {
     "data": {
      "text/plain": [
       "9"
      ]
     },
     "execution_count": 90,
     "metadata": {},
     "output_type": "execute_result"
    }
   ],
   "source": [
    "sum1"
   ]
  },
  {
   "cell_type": "code",
   "execution_count": 223,
   "id": "34eb235d",
   "metadata": {},
   "outputs": [
    {
     "name": "stdout",
     "output_type": "stream",
     "text": [
      "1\n",
      "7 4\n",
      "-9 12 -8 2 -5 -3 3\n",
      "17\n"
     ]
    }
   ],
   "source": [
    "from collections import OrderedDict\n",
    "from itertools import combinations\n",
    "from itertools import permutations\n",
    "\n",
    "t = int(input())\n",
    "if 1<= t <= 1000:\n",
    "    for i in range(t):\n",
    "        n,k = input().split()\n",
    "        k = int(k)\n",
    "        n = int(n)\n",
    "        \n",
    "        if 1<=k<=n<=(5*10^5):\n",
    "            list1 = list(map(int,input().strip().split()))[:n]    \n",
    "\n",
    "            dict1 = {}\n",
    "            count = 0\n",
    "            sum1  = 0\n",
    "\n",
    "            for i in range(len(list1)):\n",
    "                for j in range(len(list1)):\n",
    "                    if (list1[j]==list1[i]):\n",
    "                        count = count + 1\n",
    "                dict1.update({ list1[i]: count})\n",
    "                count = 0\n",
    "\n",
    "            combining_key_value = []\n",
    "            for i,j in dict1.items():\n",
    "                combining_key_value.append(i*j)\n",
    "            combining_key_value\n",
    "\n",
    "            max_sum = []\n",
    "            for i in range(k+1):\n",
    "                perm = combinations(combining_key_value,k-i)\n",
    "                sum1 = []\n",
    "                for j in perm:\n",
    "                    sum1.append(sum(j))\n",
    "                max_sum.append((k-i,max(sum1)))\n",
    "            final_max = []\n",
    "            for x in range(len(max_sum)):\n",
    "                final_max.append(max_sum[x][1])\n",
    "            print(max(final_max))"
   ]
  },
  {
   "cell_type": "code",
   "execution_count": null,
   "id": "81401308",
   "metadata": {},
   "outputs": [],
   "source": [
    "7 5\n",
    "9 -5 -9 -2 -10 10 11"
   ]
  },
  {
   "cell_type": "code",
   "execution_count": null,
   "id": "0cdf0cf4",
   "metadata": {},
   "outputs": [],
   "source": [
    "1\n",
    "8 4\n",
    "-3 3 -8 8 3 -3 7 -4"
   ]
  },
  {
   "cell_type": "code",
   "execution_count": null,
   "id": "561603d9",
   "metadata": {},
   "outputs": [],
   "source": [
    "7 4\n",
    "-9 12 -8 2 -5 -3 3"
   ]
  },
  {
   "cell_type": "code",
   "execution_count": 215,
   "id": "9bf82d27",
   "metadata": {},
   "outputs": [
    {
     "name": "stdout",
     "output_type": "stream",
     "text": [
      "(1, 2)\n",
      "(1, 3)\n",
      "(2, 3)\n"
     ]
    }
   ],
   "source": [
    "from itertools import combinations\n",
    "comb = combinations([1, 2, 3], 2)\n",
    " \n",
    "# Print the obtained combinations\n",
    "for i in list(comb):\n",
    "    print (i)"
   ]
  },
  {
   "cell_type": "code",
   "execution_count": null,
   "id": "d83aba83",
   "metadata": {},
   "outputs": [],
   "source": []
  },
  {
   "cell_type": "code",
   "execution_count": null,
   "id": "5569e1e9",
   "metadata": {},
   "outputs": [],
   "source": []
  },
  {
   "cell_type": "code",
   "execution_count": null,
   "id": "f8eb6416",
   "metadata": {},
   "outputs": [],
   "source": []
  }
 ],
 "metadata": {
  "kernelspec": {
   "display_name": "Python 3",
   "language": "python",
   "name": "python3"
  },
  "language_info": {
   "codemirror_mode": {
    "name": "ipython",
    "version": 3
   },
   "file_extension": ".py",
   "mimetype": "text/x-python",
   "name": "python",
   "nbconvert_exporter": "python",
   "pygments_lexer": "ipython3",
   "version": "3.8.8"
  }
 },
 "nbformat": 4,
 "nbformat_minor": 5
}
