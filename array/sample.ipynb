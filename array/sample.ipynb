{
 "cells": [
  {
   "cell_type": "code",
   "execution_count": 61,
   "id": "7577bc41",
   "metadata": {},
   "outputs": [],
   "source": [
    "list1 = [3,-1,2,5]\n",
    "list2 = [2,1,2,5]"
   ]
  },
  {
   "cell_type": "code",
   "execution_count": 62,
   "id": "ae9e5c4d",
   "metadata": {},
   "outputs": [
    {
     "name": "stdout",
     "output_type": "stream",
     "text": [
      "[3, -1, 2, 5]\n",
      "[2, 1, 2, 5]\n"
     ]
    }
   ],
   "source": [
    "print(list1)\n",
    "print(list2)"
   ]
  },
  {
   "cell_type": "code",
   "execution_count": 63,
   "id": "14d21a06",
   "metadata": {},
   "outputs": [],
   "source": [
    "k = 1"
   ]
  },
  {
   "cell_type": "code",
   "execution_count": 64,
   "id": "811f158d",
   "metadata": {},
   "outputs": [
    {
     "name": "stdout",
     "output_type": "stream",
     "text": [
      "[3, -1, 2, 5]\n",
      "[2, 1, 2, 5]\n"
     ]
    }
   ],
   "source": [
    "print(list1)\n",
    "print(list2)"
   ]
  },
  {
   "cell_type": "code",
   "execution_count": 65,
   "id": "bd0b5113",
   "metadata": {},
   "outputs": [
    {
     "data": {
      "text/plain": [
       "{3: 1, -1: 1, 2: 1, 5: 1}"
      ]
     },
     "execution_count": 65,
     "metadata": {},
     "output_type": "execute_result"
    }
   ],
   "source": [
    "dict1 = {}\n",
    "count = 0\n",
    "for i in range(len(list1)):\n",
    "    for j in range(i,len(list1)):\n",
    "        if (list1[j]==list1[i]):\n",
    "            count = count + 1\n",
    "    dict1.update({ list1[i]: count})\n",
    "    count = 0\n",
    "dict1"
   ]
  },
  {
   "cell_type": "code",
   "execution_count": null,
   "id": "fbeefa4d",
   "metadata": {},
   "outputs": [],
   "source": [
    "10 4\n",
    "5 5 10 8 -1 16 -3 14 -10,-10"
   ]
  },
  {
   "cell_type": "code",
   "execution_count": 121,
   "id": "2f3033ec",
   "metadata": {},
   "outputs": [],
   "source": [
    "list1 = [-3, 3, -8, 8, 3, -3, 7, -4] "
   ]
  },
  {
   "cell_type": "code",
   "execution_count": 119,
   "id": "4c57936a",
   "metadata": {},
   "outputs": [
    {
     "data": {
      "text/plain": [
       "OrderedDict([(8, 1), (7, 1), (3, 2), (-3, 2), (-4, 1), (-8, 1)])"
      ]
     },
     "execution_count": 119,
     "metadata": {},
     "output_type": "execute_result"
    }
   ],
   "source": [
    "dict1"
   ]
  },
  {
   "cell_type": "code",
   "execution_count": 112,
   "id": "34eaad00",
   "metadata": {},
   "outputs": [
    {
     "name": "stdout",
     "output_type": "stream",
     "text": [
      "4 1\n"
     ]
    }
   ],
   "source": [
    "8 4\n",
    "[-3, 3, -8, 8, 3, -3, 7, -4]"
   ]
  },
  {
   "cell_type": "code",
   "execution_count": 113,
   "id": "b038c103",
   "metadata": {},
   "outputs": [
    {
     "data": {
      "text/plain": [
       "'4'"
      ]
     },
     "execution_count": 113,
     "metadata": {},
     "output_type": "execute_result"
    }
   ],
   "source": [
    "x"
   ]
  },
  {
   "cell_type": "code",
   "execution_count": 89,
   "id": "26edef02",
   "metadata": {},
   "outputs": [],
   "source": [
    "sum1 = 0\n",
    "for i in range(K):\n",
    "    sum1 = sum1 + (list5[i][0] * list5[i][1])"
   ]
  },
  {
   "cell_type": "code",
   "execution_count": 90,
   "id": "021357de",
   "metadata": {},
   "outputs": [
    {
     "data": {
      "text/plain": [
       "9"
      ]
     },
     "execution_count": 90,
     "metadata": {},
     "output_type": "execute_result"
    }
   ],
   "source": [
    "sum1"
   ]
  },
  {
   "cell_type": "code",
   "execution_count": 224,
   "id": "c4ab0f3b",
   "metadata": {},
   "outputs": [
    {
     "name": "stdout",
     "output_type": "stream",
     "text": [
      "1\n",
      "7 4\n",
      "-9 12 -8 2 -5 -3 3\n",
      "17\n"
     ]
    }
   ],
   "source": [
    "from collections import OrderedDict\n",
    "from itertools import combinations\n",
    "from itertools import permutations\n",
    "\n",
    "t = int(input())\n",
    "for i in range(t):\n",
    "    n,k = input().split()\n",
    "    k = int(k)\n",
    "    n = int(n)\n",
    "    list1 = list(map(int,input().strip().split()))[:n]    \n",
    "    \n",
    "    dict1 = {}\n",
    "    count = 0\n",
    "    sum1  = 0\n",
    "\n",
    "    for i in range(len(list1)):\n",
    "        for j in range(len(list1)):\n",
    "            if (list1[j]==list1[i]):\n",
    "                count = count + 1\n",
    "        dict1.update({ list1[i]: count})\n",
    "        count = 0\n",
    "\n",
    "    combining_key_value = []\n",
    "    for i,j in dict1.items():\n",
    "        combining_key_value.append(i*j)\n",
    "    combining_key_value\n",
    "\n",
    "    max_sum = []\n",
    "    for i in range(k+1):\n",
    "        perm = permutations(combining_key_value,k-i)\n",
    "        sum1 = []\n",
    "        for j in perm:\n",
    "            sum1.append(sum(j))\n",
    "        max_sum.append((k-i,max(sum1)))\n",
    "    final_max = []\n",
    "    for x in range(len(max_sum)):\n",
    "        final_max.append(max_sum[x][1])\n",
    "    print(max(final_max))"
   ]
  },
  {
   "cell_type": "code",
   "execution_count": null,
   "id": "b1330a5f",
   "metadata": {},
   "outputs": [],
   "source": [
    "7 5\n",
    "9 -5 -9 -2 -10 10 11"
   ]
  },
  {
   "cell_type": "code",
   "execution_count": null,
   "id": "c6610cba",
   "metadata": {},
   "outputs": [],
   "source": [
    "1\n",
    "8 4\n",
    "-3 3 -8 8 3 -3 7 -4"
   ]
  },
  {
   "cell_type": "code",
   "execution_count": null,
   "id": "79d95029",
   "metadata": {},
   "outputs": [],
   "source": [
    "7 4\n",
    "-9 12 -8 2 -5 -3 3"
   ]
  },
  {
   "cell_type": "code",
   "execution_count": 237,
   "id": "b2b5eede",
   "metadata": {},
   "outputs": [
    {
     "name": "stdout",
     "output_type": "stream",
     "text": [
      "1\n",
      "10 4\n",
      "5 5 10 8 -1 16 -3 14 -10 -10\n",
      "50\n"
     ]
    }
   ],
   "source": [
    "from collections import Counter\n",
    "for i in range(int(input())):\n",
    "    n,k=map(int,input().split())\n",
    "    lst=list(map(int,input().split()))\n",
    "    b=Counter(lst)\n",
    "    arr=[]\n",
    "    for i in b.keys():\n",
    "        if i*b[i]>=0:\n",
    "            arr.append(i*b[i])\n",
    "        else:\n",
    "            continue\n",
    "    arr.sort(reverse=True)\n",
    "    print(sum(arr[:k]))"
   ]
  },
  {
   "cell_type": "code",
   "execution_count": 247,
   "id": "753bd674",
   "metadata": {},
   "outputs": [
    {
     "data": {
      "text/plain": [
       "[16, 14, 10, 10, 8]"
      ]
     },
     "execution_count": 247,
     "metadata": {},
     "output_type": "execute_result"
    }
   ],
   "source": [
    "arr"
   ]
  },
  {
   "cell_type": "code",
   "execution_count": 260,
   "id": "760f3693",
   "metadata": {},
   "outputs": [
    {
     "name": "stdout",
     "output_type": "stream",
     "text": [
      "1\n",
      "10 4\n",
      "5 5 10 8 -1 16 -3 14 -10 -10\n",
      "50\n"
     ]
    }
   ],
   "source": [
    "t = int(input())\n",
    "for i in range(t):\n",
    "    n,k = input().split()\n",
    "    k = int(k)\n",
    "    n = int(n)\n",
    "    list1 = list(map(int,input().strip().split()))[:n]    \n",
    "    \n",
    "    dict1 = {}\n",
    "    count = 0\n",
    "    sum1  = 0\n",
    "\n",
    "    for i in range(len(list1)):\n",
    "        for j in range(len(list1)):\n",
    "            if (list1[j]==list1[i]):\n",
    "                count = count + 1\n",
    "        dict1.update({ list1[i]: count})\n",
    "        count = 0\n",
    "\n",
    "    list_temp = list(dict1.items())\n",
    "    sum1 = []\n",
    "    \n",
    "    for i in range(len(dict1)):\n",
    "        if list_temp[i][0]>=0:\n",
    "            sum1.append(list_temp[i][0] * list_temp[i][1])\n",
    "    sum1.sort(reverse=True)\n",
    "    print(sum(sum1[:k]))"
   ]
  },
  {
   "cell_type": "code",
   "execution_count": 259,
   "id": "39f6641a",
   "metadata": {},
   "outputs": [
    {
     "data": {
      "text/plain": [
       "[16, 14, 10, 10, 8]"
      ]
     },
     "execution_count": 259,
     "metadata": {},
     "output_type": "execute_result"
    }
   ],
   "source": [
    "\n",
    "sum1"
   ]
  },
  {
   "cell_type": "code",
   "execution_count": 255,
   "id": "ec08f783",
   "metadata": {},
   "outputs": [
    {
     "data": {
      "text/plain": [
       "50"
      ]
     },
     "execution_count": 255,
     "metadata": {},
     "output_type": "execute_result"
    }
   ],
   "source": []
  },
  {
   "cell_type": "code",
   "execution_count": 232,
   "id": "0d5ac211",
   "metadata": {},
   "outputs": [
    {
     "data": {
      "text/plain": [
       "[(-9, 1), (12, 1), (-8, 1), (2, 1), (-5, 1), (-3, 1), (3, 1)]"
      ]
     },
     "execution_count": 232,
     "metadata": {},
     "output_type": "execute_result"
    }
   ],
   "source": [
    "10 4\n",
    "5 5 10 8 -1 16 -3 14 -10 -10"
   ]
  },
  {
   "cell_type": "code",
   "execution_count": null,
   "id": "ff0f95ec",
   "metadata": {},
   "outputs": [],
   "source": [
    "1\n",
    "7 4\n",
    "-9 12 -8 2 -5 -3 3\n",
    "17"
   ]
  }
 ],
 "metadata": {
  "kernelspec": {
   "display_name": "Python 3",
   "language": "python",
   "name": "python3"
  },
  "language_info": {
   "codemirror_mode": {
    "name": "ipython",
    "version": 3
   },
   "file_extension": ".py",
   "mimetype": "text/x-python",
   "name": "python",
   "nbconvert_exporter": "python",
   "pygments_lexer": "ipython3",
   "version": "3.8.8"
  }
 },
 "nbformat": 4,
 "nbformat_minor": 5
}
