{
 "cells": [
  {
   "cell_type": "code",
   "execution_count": null,
   "id": "91eb29a2",
   "metadata": {},
   "outputs": [],
   "source": [
    "T = int(input(\"Enter the number of test cases : \"))\n",
    "N = int(input(\"Enter the length of the array : \"))\n",
    "K = int(input(\"Enter the required bound : \"))\n",
    "list1 = list(map(int,input(\"Enter the array elements : \").strip().split()))[:N]    "
   ]
  },
  {
   "cell_type": "code",
   "execution_count": 5,
   "id": "1831b2a4",
   "metadata": {},
   "outputs": [],
   "source": [
    "import numpy as np\n",
    "import sys"
   ]
  },
  {
   "cell_type": "code",
   "execution_count": 65,
   "id": "a75d8d33",
   "metadata": {},
   "outputs": [
    {
     "name": "stdout",
     "output_type": "stream",
     "text": [
      "1\n"
     ]
    }
   ],
   "source": [
    "N = 2\n",
    "K = 1\n",
    "list1 = [3,1]  # 1\n",
    "\n",
    "for i in range(1,10):\n",
    "    if(np.floor(sum(list1) / len(list1)) <= K):\n",
    "        print(i-1)\n",
    "        break\n",
    "    else:\n",
    "        list1.append(i)"
   ]
  },
  {
   "cell_type": "code",
   "execution_count": 66,
   "id": "14a7fa57",
   "metadata": {},
   "outputs": [
    {
     "name": "stdout",
     "output_type": "stream",
     "text": [
      "0\n"
     ]
    }
   ],
   "source": [
    "N = 2\n",
    "K = 2\n",
    "list1 = [2,1]  # 0\n",
    "\n",
    "for i in range(1,10):\n",
    "    if(np.floor(sum(list1) / len(list1)) <= K):\n",
    "        print(i-1)\n",
    "        break\n",
    "    else:\n",
    "        list1.append(i)"
   ]
  },
  {
   "cell_type": "code",
   "execution_count": 3,
   "id": "1405734b",
   "metadata": {},
   "outputs": [
    {
     "name": "stdout",
     "output_type": "stream",
     "text": [
      "2\n",
      "2 1\n",
      "3 1\n",
      "1\n",
      "2 2\n",
      "2 1\n",
      "0\n"
     ]
    }
   ],
   "source": [
    "t = int(input())\n",
    "for i in range(t):\n",
    "    n,k = input().split()\n",
    "    k = int(k)\n",
    "    n = int(n)\n",
    "    list1 = list(map(int,input().strip().split()))[:n]   \n",
    "\n",
    "    for j in range(1,sys.maxsize):\n",
    "        if(np.floor(sum(list1) / len(list1)) <= k):\n",
    "            print(j-1)\n",
    "            break\n",
    "        else:\n",
    "            list1.append(j)"
   ]
  },
  {
   "cell_type": "code",
   "execution_count": null,
   "id": "4f1b104b",
   "metadata": {},
   "outputs": [],
   "source": [
    "list1 = [16,18,19,18,17,16,19,16,20,17]  ## 8\n",
    "list2 = [16,18,19,18,17,16,19,16,20,17]"
   ]
  },
  {
   "cell_type": "code",
   "execution_count": 71,
   "id": "e3405092",
   "metadata": {},
   "outputs": [],
   "source": [
    "list1 = [15,15,16,19,16,0]\n",
    "#list2 = [15,15,16,19,16]\n",
    "\n",
    "k = 7\n",
    "temp_list = []  ## to calculate the minimum\n",
    "for j in range(1000):\n",
    "        avg = np.floor(sum(list1) / len(list1))\n",
    "        list1.pop()\n",
    "        if (avg <= k):\n",
    "            if j==0:\n",
    "                print(\"No modifications --> simply 0\")\n",
    "                temp_list.append(j)\n",
    "            else:\n",
    "                temp_list.append(j)\n",
    "        else:\n",
    "            list1.append(j)"
   ]
  },
  {
   "cell_type": "code",
   "execution_count": 72,
   "id": "6c232ced",
   "metadata": {},
   "outputs": [
    {
     "data": {
      "text/plain": [
       "[15, 15, 16, 19, 16, 999]"
      ]
     },
     "execution_count": 72,
     "metadata": {},
     "output_type": "execute_result"
    }
   ],
   "source": [
    "list1"
   ]
  },
  {
   "cell_type": "code",
   "execution_count": 73,
   "id": "dbfd6b4d",
   "metadata": {},
   "outputs": [
    {
     "data": {
      "text/plain": [
       "[15, 15, 16, 19, 16, 1, 2, 3, 4, 5]"
      ]
     },
     "execution_count": 73,
     "metadata": {},
     "output_type": "execute_result"
    }
   ],
   "source": [
    "list2"
   ]
  },
  {
   "cell_type": "code",
   "execution_count": 74,
   "id": "352362e4",
   "metadata": {},
   "outputs": [
    {
     "data": {
      "text/plain": [
       "[]"
      ]
     },
     "execution_count": 74,
     "metadata": {},
     "output_type": "execute_result"
    }
   ],
   "source": [
    "temp_list"
   ]
  },
  {
   "cell_type": "code",
   "execution_count": 90,
   "id": "69efd70c",
   "metadata": {},
   "outputs": [
    {
     "data": {
      "text/plain": [
       "7.0"
      ]
     },
     "execution_count": 90,
     "metadata": {},
     "output_type": "execute_result"
    }
   ],
   "source": [
    "k = 7\n",
    "list1 = [15,15,16,19,16,0,0,0,0,0,0]\n",
    "avg = np.floor(sum(list1)/11)\n",
    "avg"
   ]
  },
  {
   "cell_type": "code",
   "execution_count": 91,
   "id": "3ffd3234",
   "metadata": {},
   "outputs": [
    {
     "data": {
      "text/plain": [
       "16.0"
      ]
     },
     "execution_count": 91,
     "metadata": {},
     "output_type": "execute_result"
    }
   ],
   "source": [
    "np.floor(sum([15,15,16,19,16])/5)"
   ]
  },
  {
   "cell_type": "code",
   "execution_count": 97,
   "id": "95234811",
   "metadata": {},
   "outputs": [
    {
     "data": {
      "text/plain": [
       "85"
      ]
     },
     "execution_count": 97,
     "metadata": {},
     "output_type": "execute_result"
    }
   ],
   "source": [
    "sum(list1)"
   ]
  },
  {
   "cell_type": "code",
   "execution_count": 100,
   "id": "b98228bd",
   "metadata": {},
   "outputs": [
    {
     "data": {
      "text/plain": [
       "10.0"
      ]
     },
     "execution_count": 100,
     "metadata": {},
     "output_type": "execute_result"
    }
   ],
   "source": [
    "np.floor(85/8)"
   ]
  },
  {
   "cell_type": "code",
   "execution_count": 104,
   "id": "cb405bfe",
   "metadata": {},
   "outputs": [
    {
     "name": "stdout",
     "output_type": "stream",
     "text": [
      "5\n"
     ]
    }
   ],
   "source": [
    "list1 = [18,16,19,16,16]\n",
    "k = 8\n",
    "cnt = len(list1)\n",
    "for i in range(1,100):\n",
    "    avg = np.floor(sum(list1)/cnt)\n",
    "    if (avg <= k):\n",
    "        print(cnt-len(list1))\n",
    "        break\n",
    "    else:\n",
    "        cnt+=1"
   ]
  },
  {
   "cell_type": "code",
   "execution_count": 105,
   "id": "d757c62e",
   "metadata": {},
   "outputs": [
    {
     "name": "stdout",
     "output_type": "stream",
     "text": [
      "6\n"
     ]
    }
   ],
   "source": [
    "list1 = [15,15,16,19,16]\n",
    "k = 7\n",
    "cnt = len(list1)\n",
    "for i in range(1,100):\n",
    "    avg = np.floor(sum(list1)/cnt)\n",
    "    if (avg <= k):\n",
    "        print(cnt-len(list1))\n",
    "        break\n",
    "    else:\n",
    "        cnt+=1"
   ]
  },
  {
   "cell_type": "code",
   "execution_count": 107,
   "id": "1c24b04d",
   "metadata": {},
   "outputs": [
    {
     "name": "stdout",
     "output_type": "stream",
     "text": [
      "1\n"
     ]
    }
   ],
   "source": [
    "list1 = [3,1]\n",
    "k = 1\n",
    "cnt = len(list1)\n",
    "for i in range(1,100):\n",
    "    avg = np.floor(sum(list1)/cnt)\n",
    "    if (avg <= k):\n",
    "        print(cnt-len(list1))\n",
    "        break\n",
    "    else:\n",
    "        cnt+=1"
   ]
  },
  {
   "cell_type": "code",
   "execution_count": 106,
   "id": "41013453",
   "metadata": {},
   "outputs": [
    {
     "name": "stdout",
     "output_type": "stream",
     "text": [
      "0\n"
     ]
    }
   ],
   "source": [
    "list1 = [2,1]\n",
    "k = 2\n",
    "cnt = len(list1)\n",
    "for i in range(1,100):\n",
    "    avg = np.floor(sum(list1)/cnt)\n",
    "    if (avg <= k):\n",
    "        print(cnt-len(list1))\n",
    "        break\n",
    "    else:\n",
    "        cnt+=1"
   ]
  },
  {
   "cell_type": "code",
   "execution_count": 133,
   "id": "f41c2dba",
   "metadata": {},
   "outputs": [
    {
     "data": {
      "text/plain": [
       "7.0"
      ]
     },
     "execution_count": 133,
     "metadata": {},
     "output_type": "execute_result"
    }
   ],
   "source": [
    "list1 = [15,15,16,19,16] ## 6\n",
    "k = 7\n",
    "p = np.floor(sum(list1) / k+1)\n",
    "y = p - len(list1)\n",
    "y"
   ]
  },
  {
   "cell_type": "code",
   "execution_count": 135,
   "id": "4f7a9530",
   "metadata": {},
   "outputs": [
    {
     "data": {
      "text/plain": [
       "6.0"
      ]
     },
     "execution_count": 135,
     "metadata": {},
     "output_type": "execute_result"
    }
   ],
   "source": [
    "list1 =  [18,16,19,16,16] ## 5\n",
    "k = 8\n",
    "p = np.floor(sum(list1) / k+1)\n",
    "y = p - len(list1)\n",
    "y"
   ]
  },
  {
   "cell_type": "code",
   "execution_count": 143,
   "id": "e2710091",
   "metadata": {},
   "outputs": [
    {
     "data": {
      "text/plain": [
       "5.0"
      ]
     },
     "execution_count": 143,
     "metadata": {},
     "output_type": "execute_result"
    }
   ],
   "source": [
    "list1 =  [18,16,19,16,16] ## 5\n",
    "k = 8\n",
    "p = np.floor(sum(list1)/(k+1))\n",
    "p+=1\n",
    "max(0,p-len(list1))"
   ]
  },
  {
   "cell_type": "code",
   "execution_count": 144,
   "id": "b00a12bd",
   "metadata": {},
   "outputs": [
    {
     "data": {
      "text/plain": [
       "5.0"
      ]
     },
     "execution_count": 144,
     "metadata": {},
     "output_type": "execute_result"
    }
   ],
   "source": [
    "list1 =  [18,16,19,16,16] ## 5\n",
    "k = 8\n",
    "p = np.floor(sum(list1)/(k+1)) + 1\n",
    "max(0,p-len(list1))"
   ]
  },
  {
   "cell_type": "code",
   "execution_count": null,
   "id": "ac2b299b",
   "metadata": {},
   "outputs": [],
   "source": []
  }
 ],
 "metadata": {
  "kernelspec": {
   "display_name": "Python 3",
   "language": "python",
   "name": "python3"
  },
  "language_info": {
   "codemirror_mode": {
    "name": "ipython",
    "version": 3
   },
   "file_extension": ".py",
   "mimetype": "text/x-python",
   "name": "python",
   "nbconvert_exporter": "python",
   "pygments_lexer": "ipython3",
   "version": "3.8.8"
  }
 },
 "nbformat": 4,
 "nbformat_minor": 5
}
